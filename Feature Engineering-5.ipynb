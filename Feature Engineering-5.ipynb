{
 "cells": [
  {
   "cell_type": "code",
   "execution_count": null,
   "id": "16892e4d",
   "metadata": {},
   "outputs": [],
   "source": [
    "#Q1"
   ]
  },
  {
   "cell_type": "code",
   "execution_count": null,
   "id": "ec62cb60",
   "metadata": {},
   "outputs": [],
   "source": [
    "# Difference Between Ordinal Encoding and Label Encoding\n",
    "# Ordinal Encoding and Label Encoding are techniques used to convert categorical data into numerical data. While they may seem similar, they serve different purposes and are used in different contexts.\n",
    "\n",
    "# Ordinal Encoding\n",
    "# Ordinal Encoding is used for categorical data that has a meaningful order or ranking. It assigns integer values to categories based on their order. This encoding method is useful when the categorical variable has a clear, ordered relationship among its categories.\n",
    "\n",
    "# Example\n",
    "# Consider a survey that asks respondents to rate their satisfaction on a scale: 'Poor', 'Fair', 'Good', 'Very Good', 'Excellent'.\n",
    "\n",
    "# Label Encoding\n",
    "# Label Encoding assigns integer values to categorical data without any intrinsic order. Each category is given a unique integer value. This method is generally used for nominal data, where the categories do not have a meaningful order.\n",
    "\n",
    "# Example\n",
    "# Consider a dataset of animals with species names: 'Cat', 'Dog', 'Rabbit', 'Fish'.\n",
    "    \n",
    "#   When to Choose One Over the Other\n",
    "# When to Choose Ordinal Encoding\n",
    "# Ordered Categories: Use ordinal encoding when the categorical variable has an inherent order or ranking.\n",
    "# Example: Survey responses (e.g., 'Poor', 'Fair', 'Good', 'Very Good', 'Excellent'), educational levels (e.g., 'High School', 'Bachelor's', 'Master's', 'PhD').\n",
    "# When to Choose Label Encoding\n",
    "# Unordered Categories: Use label encoding when the categorical variable is nominal and does not have a meaningful order.\n",
    "# Example: Species names (e.g., 'Cat', 'Dog', 'Rabbit', 'Fish'), colors (e.g., 'Red', 'Blue', 'Green').\n",
    "# Practical Example of Choosing One Over the Other"
   ]
  },
  {
   "cell_type": "code",
   "execution_count": null,
   "id": "091fa723",
   "metadata": {},
   "outputs": [],
   "source": [
    "#Q2"
   ]
  },
  {
   "cell_type": "code",
   "execution_count": null,
   "id": "266fdba7",
   "metadata": {},
   "outputs": [],
   "source": [
    "# Target Guided Ordinal Encoding\n",
    "# Target Guided Ordinal Encoding is a technique used to encode categorical variables by sorting the categories according to the mean (or median) of the target variable. This method creates an ordinal relationship between the categories based on their relationship with the target variable, which can be particularly useful in supervised learning tasks.\n",
    "\n",
    "# Steps in Target Guided Ordinal Encoding\n",
    "# Calculate the Mean (or Median) of the Target Variable for Each Category: For each category in the categorical variable, compute the mean (or median) of the target variable.\n",
    "# Sort the Categories: Sort the categories based on the computed means (or medians).\n",
    "# Assign Ordinal Values: Assign ordinal values to the categories based on the sorted order.\n",
    "# When to Use Target Guided Ordinal Encoding\n",
    "# Predictive Power: When the categorical variable has a significant impact on the target variable, and you want to capture this relationship in the encoding.\n",
    "# High Cardinality: When dealing with high cardinality categorical variables where one-hot encoding would be impractical due to the large number of categories.\n",
    "# Example Scenario\n",
    "# Let's consider a scenario where you are working on a machine learning project to predict house prices. You have a categorical variable neighborhood and a continuous target variable price. \n",
    "# You want to encode the neighborhood variable using target guided ordinal encoding to capture the relationship between the neighborhood and the house prices."
   ]
  },
  {
   "cell_type": "code",
   "execution_count": 1,
   "id": "3035c74f",
   "metadata": {},
   "outputs": [
    {
     "name": "stdout",
     "output_type": "stream",
     "text": [
      "Original Data:\n",
      "  neighborhood   price\n",
      "0            A  200000\n",
      "1            B  150000\n",
      "2            C  300000\n",
      "3            A  250000\n",
      "4            B  120000\n",
      "5            C  350000\n",
      "6            A  220000\n",
      "7            C  330000\n",
      "8            B  130000\n",
      "9            A  240000\n",
      "\n",
      "Mean Price by Neighborhood:\n",
      "neighborhood\n",
      "A    227500.000000\n",
      "B    133333.333333\n",
      "C    326666.666667\n",
      "Name: price, dtype: float64\n",
      "\n",
      "Neighborhood Mapping:\n",
      "{'B': 1, 'A': 2, 'C': 3}\n",
      "\n",
      "Encoded Data:\n",
      "  neighborhood   price  neighborhood_encoded\n",
      "0            A  200000                     2\n",
      "1            B  150000                     1\n",
      "2            C  300000                     3\n",
      "3            A  250000                     2\n",
      "4            B  120000                     1\n",
      "5            C  350000                     3\n",
      "6            A  220000                     2\n",
      "7            C  330000                     3\n",
      "8            B  130000                     1\n",
      "9            A  240000                     2\n"
     ]
    }
   ],
   "source": [
    "import pandas as pd\n",
    "\n",
    "# Sample dataset\n",
    "data = {\n",
    "    'neighborhood': ['A', 'B', 'C', 'A', 'B', 'C', 'A', 'C', 'B', 'A'],\n",
    "    'price': [200000, 150000, 300000, 250000, 120000, 350000, 220000, 330000, 130000, 240000]\n",
    "}\n",
    "df = pd.DataFrame(data)\n",
    "\n",
    "print(\"Original Data:\")\n",
    "print(df)\n",
    "# Calculate the mean price for each neighborhood\n",
    "mean_price = df.groupby('neighborhood')['price'].mean()\n",
    "print(\"\\nMean Price by Neighborhood:\")\n",
    "print(mean_price)\n",
    "# Sort neighborhoods by mean price\n",
    "sorted_neighborhoods = mean_price.sort_values().index\n",
    "neighborhood_mapping = {neighborhood: idx for idx, neighborhood in enumerate(sorted_neighborhoods, 1)}\n",
    "\n",
    "print(\"\\nNeighborhood Mapping:\")\n",
    "print(neighborhood_mapping)\n",
    "# Apply the mapping to encode the neighborhood variable\n",
    "df['neighborhood_encoded'] = df['neighborhood'].map(neighborhood_mapping)\n",
    "\n",
    "print(\"\\nEncoded Data:\")\n",
    "print(df)\n"
   ]
  },
  {
   "cell_type": "code",
   "execution_count": null,
   "id": "c69d98be",
   "metadata": {},
   "outputs": [],
   "source": [
    "#Q3"
   ]
  },
  {
   "cell_type": "code",
   "execution_count": null,
   "id": "caf12f33",
   "metadata": {},
   "outputs": [],
   "source": [
    "# Covariance is a statistical measure that indicates the extent to which two random variables change together. If the greater values of one variable mainly correspond with the greater values of the other variable, and the same holds true for the lesser values, the covariance is positive. If the greater values of one variable mainly correspond to the lesser values of the other, the covariance is negative. Essentially, covariance is a measure of the joint variability of two random variables.\n",
    "\n",
    "# Importance of Covariance in Statistical Analysis\n",
    "# Understanding Relationships: Covariance helps in understanding the relationship between two variables. A positive covariance indicates that the variables increase together, while a negative covariance indicates that as one variable increases, the other decreases.\n",
    "# Multivariate Data Analysis: Covariance is a fundamental concept in multivariate statistics. It is used in various analyses, such as Principal Component Analysis (PCA), which reduces the dimensionality of data by transforming variables into a new set of uncorrelated variables.\n",
    "# Portfolio Management: In finance, covariance is used to measure how two stocks move together. This information is critical for portfolio diversification and risk management.\n",
    "# Machine Learning: In machine learning, understanding the covariance between features can help in feature selection and in understanding feature interactions"
   ]
  },
  {
   "cell_type": "code",
   "execution_count": 2,
   "id": "f025184c",
   "metadata": {},
   "outputs": [
    {
     "name": "stdout",
     "output_type": "stream",
     "text": [
      "Covariance: 5.0\n"
     ]
    }
   ],
   "source": [
    "import numpy as np\n",
    "\n",
    "# Define the data\n",
    "X = np.array([1, 2, 3, 4, 5])\n",
    "Y = np.array([2, 4, 6, 8, 10])\n",
    "\n",
    "# Calculate the covariance matrix\n",
    "cov_matrix = np.cov(X, Y)\n",
    "\n",
    "# Extract the covariance value\n",
    "covariance = cov_matrix[0, 1]\n",
    "\n",
    "print(\"Covariance:\", covariance)\n"
   ]
  },
  {
   "cell_type": "code",
   "execution_count": null,
   "id": "26026a34",
   "metadata": {},
   "outputs": [],
   "source": [
    "#Q4"
   ]
  },
  {
   "cell_type": "code",
   "execution_count": 3,
   "id": "d0358b31",
   "metadata": {},
   "outputs": [
    {
     "name": "stdout",
     "output_type": "stream",
     "text": [
      "Original Data:\n",
      "   Color    Size Material\n",
      "0    red   small     wood\n",
      "1  green  medium    metal\n",
      "2   blue   large  plastic\n",
      "3  green  medium    metal\n",
      "4    red   small     wood\n",
      "\n",
      "Label Encoded Data:\n",
      "   Color_encoded  Size_encoded  Material_encoded\n",
      "0              2             2                 2\n",
      "1              1             1                 0\n",
      "2              0             0                 1\n",
      "3              1             1                 0\n",
      "4              2             2                 2\n"
     ]
    }
   ],
   "source": [
    "import pandas as pd\n",
    "from sklearn.preprocessing import LabelEncoder\n",
    "\n",
    "# Create a sample dataset\n",
    "data = {\n",
    "    'Color': ['red', 'green', 'blue', 'green', 'red'],\n",
    "    'Size': ['small', 'medium', 'large', 'medium', 'small'],\n",
    "    'Material': ['wood', 'metal', 'plastic', 'metal', 'wood']\n",
    "}\n",
    "df = pd.DataFrame(data)\n",
    "\n",
    "# Initialize the LabelEncoder\n",
    "label_encoder = LabelEncoder()\n",
    "\n",
    "# Apply label encoding to each column\n",
    "df['Color_encoded'] = label_encoder.fit_transform(df['Color'])\n",
    "df['Size_encoded'] = label_encoder.fit_transform(df['Size'])\n",
    "df['Material_encoded'] = label_encoder.fit_transform(df['Material'])\n",
    "\n",
    "# Display the original and encoded data\n",
    "print(\"Original Data:\")\n",
    "print(df[['Color', 'Size', 'Material']])\n",
    "print(\"\\nLabel Encoded Data:\")\n",
    "print(df[['Color_encoded', 'Size_encoded', 'Material_encoded']])\n"
   ]
  },
  {
   "cell_type": "code",
   "execution_count": null,
   "id": "d91ee3e9",
   "metadata": {},
   "outputs": [],
   "source": [
    "#Q5"
   ]
  },
  {
   "cell_type": "code",
   "execution_count": 5,
   "id": "8a87ee0a",
   "metadata": {},
   "outputs": [
    {
     "name": "stdout",
     "output_type": "stream",
     "text": [
      "Sample Dataset:\n",
      "   Age  Income  Education_Level\n",
      "0   25   50000               12\n",
      "1   30   60000               14\n",
      "2   45   80000               16\n",
      "3   35   75000               15\n",
      "4   50   90000               18\n"
     ]
    }
   ],
   "source": [
    "import pandas as pd\n",
    "import numpy as np\n",
    "\n",
    "# Create a sample dataset\n",
    "data = {\n",
    "    'Age': [25, 30, 45, 35, 50],\n",
    "    'Income': [50000, 60000, 80000, 75000, 90000],\n",
    "    'Education_Level': [12, 14, 16, 15, 18]  # Assuming education level as years of education\n",
    "}\n",
    "df = pd.DataFrame(data)\n",
    "\n",
    "# Display the dataset\n",
    "print(\"Sample Dataset:\")\n",
    "print(df)\n",
    "\n"
   ]
  },
  {
   "cell_type": "code",
   "execution_count": 6,
   "id": "8c6a7481",
   "metadata": {},
   "outputs": [
    {
     "name": "stdout",
     "output_type": "stream",
     "text": [
      "Covariance Matrix:\n",
      "[[1.075e+02 1.600e+05 2.250e+01]\n",
      " [1.600e+05 2.550e+08 3.500e+04]\n",
      " [2.250e+01 3.500e+04 5.000e+00]]\n"
     ]
    }
   ],
   "source": [
    "# Calculate the covariance matrix\n",
    "cov_matrix = np.cov(df.T)\n",
    "\n",
    "# Display the covariance matrix\n",
    "print(\"Covariance Matrix:\")\n",
    "print(cov_matrix)\n"
   ]
  },
  {
   "cell_type": "code",
   "execution_count": null,
   "id": "73278c64",
   "metadata": {},
   "outputs": [],
   "source": [
    "# The covariance matrix provides insights into the relationships between the variables:\n",
    "\n",
    "# Positive Covariance: Indicates that the variables tend to increase together. Here, Age, Income, and Education Level all have positive covariances with each other, suggesting that these variables tend to increase together.\n",
    "# Magnitude of Covariance: The larger the absolute value of the covariance, the stronger the relationship between the variables. Income has the strongest relationship with both Age and Education Level.\n",
    "# These insights can help in understanding the underlying relationships in the data and guide further analysis or model building."
   ]
  },
  {
   "cell_type": "code",
   "execution_count": null,
   "id": "9a2ee76b",
   "metadata": {},
   "outputs": [],
   "source": [
    "#Q6"
   ]
  },
  {
   "cell_type": "code",
   "execution_count": null,
   "id": "787a2137",
   "metadata": {},
   "outputs": [],
   "source": [
    "# Gender: One-hot encoding to avoid implying any ordinal relationship between Male and Female.\n",
    "# Education Level: Ordinal encoding to capture the intrinsic order in educational qualifications.\n",
    "# Employment Status: One-hot encoding to treat each employment category as distinct and unrelated."
   ]
  },
  {
   "cell_type": "code",
   "execution_count": 7,
   "id": "1596ac1a",
   "metadata": {},
   "outputs": [
    {
     "name": "stdout",
     "output_type": "stream",
     "text": [
      "  Education Level  Education_Level_Encoded\n",
      "0      Bachelor's                        2\n",
      "1             PhD                        4\n",
      "2        Master's                        3\n",
      "3     High School                        1\n",
      "4      Bachelor's                        2\n"
     ]
    }
   ],
   "source": [
    "education_mapping = {\n",
    "    'High School': 1,\n",
    "    'Bachelor\\'s': 2,\n",
    "    'Master\\'s': 3,\n",
    "    'PhD': 4\n",
    "}\n",
    "\n",
    "df = pd.DataFrame({\n",
    "    'Education Level': ['Bachelor\\'s', 'PhD', 'Master\\'s', 'High School', 'Bachelor\\'s']\n",
    "})\n",
    "\n",
    "df['Education_Level_Encoded'] = df['Education Level'].map(education_mapping)\n",
    "print(df)\n"
   ]
  },
  {
   "cell_type": "code",
   "execution_count": null,
   "id": "15516c6d",
   "metadata": {},
   "outputs": [],
   "source": []
  }
 ],
 "metadata": {
  "kernelspec": {
   "display_name": "Python 3",
   "language": "python",
   "name": "python3"
  },
  "language_info": {
   "codemirror_mode": {
    "name": "ipython",
    "version": 3
   },
   "file_extension": ".py",
   "mimetype": "text/x-python",
   "name": "python",
   "nbconvert_exporter": "python",
   "pygments_lexer": "ipython3",
   "version": "3.11.3"
  }
 },
 "nbformat": 4,
 "nbformat_minor": 5
}
